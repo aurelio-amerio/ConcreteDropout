{
  "cells": [
    {
      "cell_type": "markdown",
      "metadata": {
        "id": "MJBD33HA5DvI"
      },
      "source": [
        "# Simple MNIST convnet\n"
      ]
    },
    {
      "cell_type": "markdown",
      "source": [
        "Simple mnist dataset example for concrete dropout, modeled after https://keras.io/examples/vision/mnist_convnet/"
      ],
      "metadata": {
        "id": "7X5ZaAGr-jzK"
      }
    },
    {
      "cell_type": "markdown",
      "metadata": {
        "id": "AMJ0bA605DvO"
      },
      "source": [
        "## Setup"
      ]
    },
    {
      "cell_type": "code",
      "source": [
        "!pip install concretedropout"
      ],
      "metadata": {
        "colab": {
          "base_uri": "https://localhost:8080/"
        },
        "id": "7TO8QJuN5nfM",
        "outputId": "8aca6775-71af-44e3-bdbe-2e9eadbd4ce7"
      },
      "execution_count": 1,
      "outputs": [
        {
          "output_type": "stream",
          "name": "stdout",
          "text": [
            "Looking in indexes: https://pypi.org/simple, https://us-python.pkg.dev/colab-wheels/public/simple/\n",
            "Collecting concretedropout\n",
            "  Downloading concretedropout-0.1.0-py3-none-any.whl (5.5 kB)\n",
            "Installing collected packages: concretedropout\n",
            "Successfully installed concretedropout-0.1.0\n"
          ]
        }
      ]
    },
    {
      "cell_type": "code",
      "execution_count": 28,
      "metadata": {
        "id": "BLAn71ba5DvP"
      },
      "outputs": [],
      "source": [
        "import numpy as np\n",
        "import tensorflow as tf\n",
        "import keras.backend as K\n",
        "from tensorflow import keras\n",
        "from tensorflow.keras import layers\n",
        "from concretedropout import ConcreteDenseDropout, ConcreteSpatialDropout2D, get_weight_regularizer, get_dropout_regularizer"
      ]
    },
    {
      "cell_type": "markdown",
      "metadata": {
        "id": "l0z96LGN5DvQ"
      },
      "source": [
        "## Prepare the data"
      ]
    },
    {
      "cell_type": "code",
      "execution_count": 5,
      "metadata": {
        "id": "WNSYhYeZ5DvR",
        "outputId": "90c8dbd8-4104-4721-d65b-c16b6dea2b5f",
        "colab": {
          "base_uri": "https://localhost:8080/"
        }
      },
      "outputs": [
        {
          "output_type": "stream",
          "name": "stdout",
          "text": [
            "Downloading data from https://storage.googleapis.com/tensorflow/tf-keras-datasets/mnist.npz\n",
            "11493376/11490434 [==============================] - 0s 0us/step\n",
            "11501568/11490434 [==============================] - 0s 0us/step\n",
            "x_train shape: (60000, 28, 28, 1)\n",
            "60000 train samples\n",
            "10000 test samples\n"
          ]
        }
      ],
      "source": [
        "# Model / data parameters\n",
        "num_classes = 10\n",
        "input_shape = (28, 28, 1)\n",
        "\n",
        "# Load the data and split it between train and test sets\n",
        "(x_train, y_train), (x_test, y_test) = keras.datasets.mnist.load_data()\n",
        "\n",
        "# Scale images to the [0, 1] range\n",
        "x_train = x_train.astype(\"float32\") / 255\n",
        "x_test = x_test.astype(\"float32\") / 255\n",
        "# Make sure images have shape (28, 28, 1)\n",
        "x_train = np.expand_dims(x_train, -1)\n",
        "x_test = np.expand_dims(x_test, -1)\n",
        "print(\"x_train shape:\", x_train.shape)\n",
        "print(x_train.shape[0], \"train samples\")\n",
        "print(x_test.shape[0], \"test samples\")\n",
        "\n",
        "\n",
        "# convert class vectors to binary class matrices\n",
        "y_train = keras.utils.to_categorical(y_train, num_classes)\n",
        "y_test = keras.utils.to_categorical(y_test, num_classes)"
      ]
    },
    {
      "cell_type": "markdown",
      "metadata": {
        "id": "4EQOP8wu5DvR"
      },
      "source": [
        "## Build the model"
      ]
    },
    {
      "cell_type": "code",
      "execution_count": 30,
      "metadata": {
        "id": "8xsS3cKS5DvS",
        "outputId": "3849a3d5-59f2-4b2d-dc52-5fbb9212d8b9",
        "colab": {
          "base_uri": "https://localhost:8080/"
        }
      },
      "outputs": [
        {
          "output_type": "stream",
          "name": "stdout",
          "text": [
            "Model: \"mnist_model\"\n",
            "_________________________________________________________________\n",
            " Layer (type)                Output Shape              Param #   \n",
            "=================================================================\n",
            " inputs (InputLayer)         [(None, 28, 28, 1)]       0         \n",
            "                                                                 \n",
            " conv2d_12 (Conv2D)          (None, 26, 26, 32)        320       \n",
            "                                                                 \n",
            " activation_1 (Activation)   (None, 26, 26, 32)        0         \n",
            "                                                                 \n",
            " max_pooling2d_9 (MaxPooling  (None, 13, 13, 32)       0         \n",
            " 2D)                                                             \n",
            "                                                                 \n",
            " concrete_spatial_dropout2d_  (None, 11, 11, 64)       18497     \n",
            " 5 (ConcreteSpatialDropout2D                                     \n",
            " )                                                               \n",
            "                                                                 \n",
            " activation_2 (Activation)   (None, 11, 11, 64)        0         \n",
            "                                                                 \n",
            " max_pooling2d_10 (MaxPoolin  (None, 5, 5, 64)         0         \n",
            " g2D)                                                            \n",
            "                                                                 \n",
            " flatten_3 (Flatten)         (None, 1600)              0         \n",
            "                                                                 \n",
            " concrete_dense_dropout_3 (C  (None, 10)               16011     \n",
            " oncreteDenseDropout)                                            \n",
            "                                                                 \n",
            " activation_3 (Activation)   (None, 10)                0         \n",
            "                                                                 \n",
            "=================================================================\n",
            "Total params: 34,828\n",
            "Trainable params: 34,828\n",
            "Non-trainable params: 0\n",
            "_________________________________________________________________\n"
          ]
        }
      ],
      "source": [
        "# compute the regularisation values\n",
        "Ns = x_train.shape[0]\n",
        "wr = get_weight_regularizer(Ns, l=1e-2, tau=1.0)\n",
        "dr = get_dropout_regularizer(Ns, tau=1.0, cross_entropy_loss=True)\n",
        "\n",
        "# create the neural network\n",
        "inputs = tf.keras.layers.Input(input_shape, name=\"inputs\")\n",
        "conv1 = layers.Conv2D(32, kernel_size=(3, 3))\n",
        "x = conv1(inputs) # we don't place any dropout on the input\n",
        "x = layers.Activation(\"relu\", name=\"activation_1\")(x)\n",
        "x = layers.MaxPooling2D(pool_size=(2, 2))(x)\n",
        "\n",
        "conv2 = layers.Conv2D(64, kernel_size=(3, 3))\n",
        "x = ConcreteSpatialDropout2D(conv2, is_mc_dropout=False, weight_regularizer=wr, dropout_regularizer=dr)(x)\n",
        "x = layers.Activation(\"relu\", name=\"activation_2\")(x)\n",
        "x = layers.MaxPooling2D(pool_size=(2, 2))(x)\n",
        "\n",
        "x = layers.Flatten()(x)\n",
        "\n",
        "dense1 = layers.Dense(num_classes)\n",
        "x = ConcreteDenseDropout(dense1, is_mc_dropout=False, weight_regularizer=wr, dropout_regularizer=dr)(x)\n",
        "\n",
        "outputs = layers.Activation(\"softmax\", name=\"activation_3\")(x)\n",
        "\n",
        "model = tf.keras.Model(inputs=inputs, outputs=outputs, name=\"mnist_model\")\n",
        "\n",
        "model.summary()"
      ]
    },
    {
      "cell_type": "markdown",
      "metadata": {
        "id": "DTtZhkf_5DvT"
      },
      "source": [
        "## Train the model"
      ]
    },
    {
      "cell_type": "code",
      "execution_count": 31,
      "metadata": {
        "id": "K17xaqZM5DvT",
        "outputId": "4f696fd0-e831-4a6a-feaf-63ea536251c8",
        "colab": {
          "base_uri": "https://localhost:8080/"
        }
      },
      "outputs": [
        {
          "output_type": "stream",
          "name": "stdout",
          "text": [
            "Epoch 1/15\n",
            "422/422 [==============================] - 4s 8ms/step - loss: 0.3039 - accuracy: 0.9107 - val_loss: 0.0748 - val_accuracy: 0.9745\n",
            "Epoch 2/15\n",
            "422/422 [==============================] - 3s 7ms/step - loss: 0.0784 - accuracy: 0.9739 - val_loss: 0.0493 - val_accuracy: 0.9850\n",
            "Epoch 3/15\n",
            "422/422 [==============================] - 3s 7ms/step - loss: 0.0555 - accuracy: 0.9807 - val_loss: 0.0398 - val_accuracy: 0.9865\n",
            "Epoch 4/15\n",
            "422/422 [==============================] - 3s 7ms/step - loss: 0.0429 - accuracy: 0.9843 - val_loss: 0.0486 - val_accuracy: 0.9842\n",
            "Epoch 5/15\n",
            "422/422 [==============================] - 3s 7ms/step - loss: 0.0382 - accuracy: 0.9854 - val_loss: 0.0329 - val_accuracy: 0.9892\n",
            "Epoch 6/15\n",
            "422/422 [==============================] - 3s 7ms/step - loss: 0.0308 - accuracy: 0.9879 - val_loss: 0.0275 - val_accuracy: 0.9890\n",
            "Epoch 7/15\n",
            "422/422 [==============================] - 3s 7ms/step - loss: 0.0255 - accuracy: 0.9894 - val_loss: 0.0311 - val_accuracy: 0.9887\n",
            "Epoch 8/15\n",
            "422/422 [==============================] - 3s 8ms/step - loss: 0.0212 - accuracy: 0.9908 - val_loss: 0.0304 - val_accuracy: 0.9890\n",
            "Epoch 9/15\n",
            "422/422 [==============================] - 4s 9ms/step - loss: 0.0184 - accuracy: 0.9911 - val_loss: 0.0310 - val_accuracy: 0.9893\n",
            "Epoch 10/15\n",
            "422/422 [==============================] - 4s 9ms/step - loss: 0.0146 - accuracy: 0.9924 - val_loss: 0.0272 - val_accuracy: 0.9905\n",
            "Epoch 11/15\n",
            "422/422 [==============================] - 4s 8ms/step - loss: 0.0123 - accuracy: 0.9928 - val_loss: 0.0214 - val_accuracy: 0.9922\n",
            "Epoch 12/15\n",
            "422/422 [==============================] - 3s 7ms/step - loss: 0.0105 - accuracy: 0.9932 - val_loss: 0.0212 - val_accuracy: 0.9908\n",
            "Epoch 13/15\n",
            "422/422 [==============================] - 3s 7ms/step - loss: 0.0080 - accuracy: 0.9940 - val_loss: 0.0236 - val_accuracy: 0.9917\n",
            "Epoch 14/15\n",
            "422/422 [==============================] - 3s 7ms/step - loss: 0.0069 - accuracy: 0.9943 - val_loss: 0.0276 - val_accuracy: 0.9903\n",
            "Epoch 15/15\n",
            "422/422 [==============================] - 3s 6ms/step - loss: 0.0052 - accuracy: 0.9947 - val_loss: 0.0206 - val_accuracy: 0.9917\n"
          ]
        },
        {
          "output_type": "execute_result",
          "data": {
            "text/plain": [
              "<keras.callbacks.History at 0x7fcd603dc850>"
            ]
          },
          "metadata": {},
          "execution_count": 31
        }
      ],
      "source": [
        "batch_size = 128\n",
        "epochs = 15\n",
        "\n",
        "model.compile(loss=\"categorical_crossentropy\", optimizer=\"adam\", metrics=[\"accuracy\"])\n",
        "\n",
        "model.fit(x_train, y_train, batch_size=batch_size, epochs=epochs, validation_split=0.1)"
      ]
    },
    {
      "cell_type": "markdown",
      "metadata": {
        "id": "C84NbBYK5DvU"
      },
      "source": [
        "## Evaluate the trained model"
      ]
    },
    {
      "cell_type": "code",
      "execution_count": 32,
      "metadata": {
        "id": "OCThObV95DvU",
        "outputId": "7087c493-7023-4d6b-ae8d-fc61f8c3bb14",
        "colab": {
          "base_uri": "https://localhost:8080/"
        }
      },
      "outputs": [
        {
          "output_type": "stream",
          "name": "stdout",
          "text": [
            "Test loss: 0.017377963289618492\n",
            "Test accuracy: 0.9912999868392944\n"
          ]
        }
      ],
      "source": [
        "score = model.evaluate(x_test, y_test, verbose=0)\n",
        "print(\"Test loss:\", score[0])\n",
        "print(\"Test accuracy:\", score[1])"
      ]
    },
    {
      "cell_type": "markdown",
      "source": [
        "get the dropout values:"
      ],
      "metadata": {
        "id": "2MDs_ZA5-Ujr"
      }
    },
    {
      "cell_type": "code",
      "source": [
        "ps = np.array([K.eval(layer.p_logit) for layer in model.layers if hasattr(layer, 'p_logit')])\n",
        "droput_val = tf.nn.sigmoid(ps).numpy()\n",
        "print(droput_val)"
      ],
      "metadata": {
        "colab": {
          "base_uri": "https://localhost:8080/"
        },
        "id": "j8IvIgHu8jgm",
        "outputId": "68515dae-7ccc-49e1-c095-bb4ca0897665"
      },
      "execution_count": 33,
      "outputs": [
        {
          "output_type": "stream",
          "name": "stdout",
          "text": [
            "[[0.01307389]\n",
            " [0.14507046]]\n"
          ]
        }
      ]
    }
  ],
  "metadata": {
    "colab": {
      "collapsed_sections": [],
      "name": "mnist_convnet_concrete_dropout",
      "provenance": [],
      "toc_visible": true
    },
    "kernelspec": {
      "display_name": "Python 3",
      "language": "python",
      "name": "python3"
    },
    "language_info": {
      "codemirror_mode": {
        "name": "ipython",
        "version": 3
      },
      "file_extension": ".py",
      "mimetype": "text/x-python",
      "name": "python",
      "nbconvert_exporter": "python",
      "pygments_lexer": "ipython3",
      "version": "3.7.0"
    },
    "accelerator": "GPU",
    "gpuClass": "standard"
  },
  "nbformat": 4,
  "nbformat_minor": 0
}