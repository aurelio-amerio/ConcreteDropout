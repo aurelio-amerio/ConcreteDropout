{
  "cells": [
    {
      "cell_type": "markdown",
      "metadata": {
        "id": "MJBD33HA5DvI"
      },
      "source": [
        "# MCDropout BNN for a regression task\n"
      ]
    },
    {
      "cell_type": "markdown",
      "source": [
        "For more information on this BNN implementation, see https://arxiv.org/pdf/1703.04977.pdf"
      ],
      "metadata": {
        "id": "7X5ZaAGr-jzK"
      }
    },
    {
      "cell_type": "markdown",
      "metadata": {
        "id": "AMJ0bA605DvO"
      },
      "source": [
        "## Setup"
      ]
    },
    {
      "cell_type": "code",
      "source": [
        "!pip install concretedropout"
      ],
      "metadata": {
        "colab": {
          "base_uri": "https://localhost:8080/"
        },
        "id": "7TO8QJuN5nfM",
        "outputId": "bdfe01d4-54c7-49ed-90ec-94087525471a"
      },
      "execution_count": 1,
      "outputs": [
        {
          "output_type": "stream",
          "name": "stdout",
          "text": [
            "Looking in indexes: https://pypi.org/simple, https://us-python.pkg.dev/colab-wheels/public/simple/\n",
            "Collecting concretedropout\n",
            "  Downloading concretedropout-0.1.0-py3-none-any.whl (5.5 kB)\n",
            "Installing collected packages: concretedropout\n",
            "Successfully installed concretedropout-0.1.0\n"
          ]
        }
      ]
    },
    {
      "cell_type": "code",
      "execution_count": 2,
      "metadata": {
        "id": "BLAn71ba5DvP"
      },
      "outputs": [],
      "source": [
        "import numpy as np\n",
        "import tensorflow as tf\n",
        "import keras.backend as K\n",
        "from tensorflow import keras\n",
        "from tensorflow.keras import layers\n",
        "from concretedropout import ConcreteDenseDropout, get_weight_regularizer, get_dropout_regularizer"
      ]
    },
    {
      "cell_type": "markdown",
      "metadata": {
        "id": "l0z96LGN5DvQ"
      },
      "source": [
        "## Prepare the data"
      ]
    },
    {
      "cell_type": "code",
      "source": [
        "Q = 1\n",
        "D = 1\n",
        "\n",
        "def gen_data(N):\n",
        "    sigma = 1e0  # ground truth\n",
        "    X = np.random.randn(N, Q)\n",
        "    w = 2.\n",
        "    b = 8.\n",
        "    Y = X.dot(w) + b + sigma * np.random.randn(N, D)\n",
        "    return X, Y"
      ],
      "metadata": {
        "id": "OI90mMBqDu5P"
      },
      "execution_count": 3,
      "outputs": []
    },
    {
      "cell_type": "code",
      "source": [
        "x_train, y_train = gen_data(1000)\n",
        "x_test, y_test = gen_data(100)\n",
        "\n",
        "input_shape = (1,)"
      ],
      "metadata": {
        "id": "6hek4J3ADwJb"
      },
      "execution_count": 4,
      "outputs": []
    },
    {
      "cell_type": "markdown",
      "metadata": {
        "id": "4EQOP8wu5DvR"
      },
      "source": [
        "## BNN model"
      ]
    },
    {
      "cell_type": "code",
      "source": [
        "@tf.function\n",
        "def heteroscedastic_loss(y_true, y_pred):\n",
        "    D = y_pred.shape[-1]//2\n",
        "    mean = y_pred[:, :D]\n",
        "    log_var = y_pred[:, D:]\n",
        "    precision = tf.math.exp(-log_var)\n",
        "    return tf.math.reduce_sum(precision * (y_true - mean)**2. + log_var)"
      ],
      "metadata": {
        "id": "oTbnpirxFGui"
      },
      "execution_count": 5,
      "outputs": []
    },
    {
      "cell_type": "code",
      "execution_count": 6,
      "metadata": {
        "id": "8xsS3cKS5DvS",
        "outputId": "dc75a263-ff4e-4786-e24f-ae0106ed5e13",
        "colab": {
          "base_uri": "https://localhost:8080/"
        }
      },
      "outputs": [
        {
          "output_type": "stream",
          "name": "stdout",
          "text": [
            "Model: \"regression_model\"\n",
            "__________________________________________________________________________________________________\n",
            " Layer (type)                   Output Shape         Param #     Connected to                     \n",
            "==================================================================================================\n",
            " inputs (InputLayer)            [(None, 1)]          0           []                               \n",
            "                                                                                                  \n",
            " dense (Dense)                  (None, 100)          200         ['inputs[0][0]']                 \n",
            "                                                                                                  \n",
            " activation_1 (Activation)      (None, 100)          0           ['dense[0][0]']                  \n",
            "                                                                                                  \n",
            " concrete_dense_dropout (Concre  (None, 100)         10101       ['activation_1[0][0]']           \n",
            " teDenseDropout)                                                                                  \n",
            "                                                                                                  \n",
            " activation_2 (Activation)      (None, 100)          0           ['concrete_dense_dropout[0][0]'] \n",
            "                                                                                                  \n",
            " concrete_dense_dropout_1 (Conc  (None, 100)         10101       ['activation_2[0][0]']           \n",
            " reteDenseDropout)                                                                                \n",
            "                                                                                                  \n",
            " activation_3 (Activation)      (None, 100)          0           ['concrete_dense_dropout_1[0][0]'\n",
            "                                                                 ]                                \n",
            "                                                                                                  \n",
            " concrete_dense_dropout_2 (Conc  (None, 1)           102         ['activation_3[0][0]']           \n",
            " reteDenseDropout)                                                                                \n",
            "                                                                                                  \n",
            " concrete_dense_dropout_3 (Conc  (None, 1)           102         ['activation_3[0][0]']           \n",
            " reteDenseDropout)                                                                                \n",
            "                                                                                                  \n",
            " concatenate (Concatenate)      (None, 2)            0           ['concrete_dense_dropout_2[0][0]'\n",
            "                                                                 , 'concrete_dense_dropout_3[0][0]\n",
            "                                                                 ']                               \n",
            "                                                                                                  \n",
            " out (Activation)               (None, 2)            0           ['concatenate[0][0]']            \n",
            "                                                                                                  \n",
            "==================================================================================================\n",
            "Total params: 20,606\n",
            "Trainable params: 20,606\n",
            "Non-trainable params: 0\n",
            "__________________________________________________________________________________________________\n"
          ]
        }
      ],
      "source": [
        "# compute the regularisation values\n",
        "Ns = x_train.shape[0]\n",
        "wr = get_weight_regularizer(Ns, l=1e-2, tau=1.0)\n",
        "dr = get_dropout_regularizer(Ns, tau=1.0, cross_entropy_loss=False)\n",
        "\n",
        "# create the neural network\n",
        "inputs = tf.keras.layers.Input(input_shape, name=\"inputs\")\n",
        "\n",
        "dense1 = layers.Dense(100)\n",
        "x = dense1(inputs)\n",
        "x = layers.Activation(\"relu\", name=\"activation_1\")(x)\n",
        "\n",
        "dense2 = layers.Dense(100)\n",
        "x = ConcreteDenseDropout(dense2, is_mc_dropout=True, weight_regularizer=wr, dropout_regularizer=dr)(x)\n",
        "x = layers.Activation(\"relu\", name=\"activation_2\")(x)\n",
        "\n",
        "dense3 = layers.Dense(100)\n",
        "x = ConcreteDenseDropout(dense3, is_mc_dropout=True, weight_regularizer=wr, dropout_regularizer=dr)(x)\n",
        "x = layers.Activation(\"relu\", name=\"activation_3\")(x)\n",
        "\n",
        "dense_mean = layers.Dense(1)\n",
        "mean = ConcreteDenseDropout(dense_mean, is_mc_dropout=True, weight_regularizer=wr, dropout_regularizer=dr)(x)\n",
        "\n",
        "dense_logvar = layers.Dense(1)\n",
        "logvar = ConcreteDenseDropout(dense_logvar, is_mc_dropout=True, weight_regularizer=wr, dropout_regularizer=dr)(x)\n",
        "\n",
        "concat = tf.keras.layers.Concatenate(axis=-1)([mean, logvar]) \n",
        "outputs = layers.Activation(\"linear\", name=\"out\")(concat)\n",
        "\n",
        "model = tf.keras.Model(inputs=inputs, outputs=outputs, name=\"regression_model\")\n",
        "\n",
        "model.summary()"
      ]
    },
    {
      "cell_type": "code",
      "source": [
        "from tqdm.auto import tqdm\n",
        "\n",
        "def MC_predict( model, X, Y_dim=1, n_samples=1000, verbose=False, **kwargs):\n",
        "    mean_arr = []\n",
        "    std_dev_arr = []\n",
        "    shape = X.shape\n",
        "    if verbose:\n",
        "        iterator = tqdm(np.arange(shape[0]))\n",
        "    else:\n",
        "        iterator = np.arange(shape[0])\n",
        "\n",
        "\n",
        "    for i in iterator:\n",
        "        X_in = tf.gather(X, i, axis=0)\n",
        "        X_in = tf.reshape(X_in, (1, *shape[1:]))\n",
        "        X_in = tf.repeat(X_in, n_samples, axis=0)\n",
        "\n",
        "\n",
        "        predictions = model.predict(X_in, **kwargs)\n",
        "        \n",
        "        yhat = predictions[:, :Y_dim]\n",
        "        logvars = predictions[:, Y_dim:]\n",
        "  \n",
        "\n",
        "        mean = np.mean(yhat, axis=0)\n",
        "        \n",
        "        y2 = np.mean(yhat**2, axis=0)\n",
        "        y_m = mean\n",
        "        var_mean = np.mean(np.exp(logvars), axis=0)\n",
        "        total_var = y2 - y_m**2 + var_mean\n",
        "        std_dev = np.sqrt(total_var)\n",
        "\n",
        "\n",
        "        mean_arr.append(mean)\n",
        "        std_dev_arr.append(std_dev)\n",
        "\n",
        "    mean_arr = np.asarray(mean_arr)\n",
        "    std_dev_arr = np.asarray(std_dev_arr)\n",
        "    return mean_arr, std_dev_arr"
      ],
      "metadata": {
        "id": "KMKyZ9buFV-U"
      },
      "execution_count": 7,
      "outputs": []
    },
    {
      "cell_type": "markdown",
      "metadata": {
        "id": "DTtZhkf_5DvT"
      },
      "source": [
        "### Train the model"
      ]
    },
    {
      "cell_type": "code",
      "execution_count": 8,
      "metadata": {
        "id": "K17xaqZM5DvT",
        "outputId": "051f387f-e0f8-49f1-df31-438629b66304",
        "colab": {
          "base_uri": "https://localhost:8080/"
        }
      },
      "outputs": [
        {
          "output_type": "execute_result",
          "data": {
            "text/plain": [
              "<keras.callbacks.History at 0x7f8e602178d0>"
            ]
          },
          "metadata": {},
          "execution_count": 8
        }
      ],
      "source": [
        "batch_size = 128\n",
        "epochs = 100\n",
        "\n",
        "model.compile(loss=heteroscedastic_loss, optimizer=\"adam\")\n",
        "\n",
        "model.fit(x_train, y_train, batch_size=batch_size, epochs=epochs, validation_split=0.1, verbose=0)"
      ]
    },
    {
      "cell_type": "markdown",
      "metadata": {
        "id": "C84NbBYK5DvU"
      },
      "source": [
        "### Evaluate the trained model"
      ]
    },
    {
      "cell_type": "markdown",
      "source": [
        "Now we want to get the predictive distribution for the test samples and plot it"
      ],
      "metadata": {
        "id": "C0kvXcvoGTXj"
      }
    },
    {
      "cell_type": "code",
      "source": [
        "import matplotlib.pyplot as plt"
      ],
      "metadata": {
        "id": "iuMm11iJHJlP"
      },
      "execution_count": 9,
      "outputs": []
    },
    {
      "cell_type": "code",
      "source": [
        "y_pred, std = MC_predict(model, x_test, verbose=True)"
      ],
      "metadata": {
        "colab": {
          "base_uri": "https://localhost:8080/",
          "height": 49,
          "referenced_widgets": [
            "e4d0c4b615bc4fdf85b3c3f4d771f42b",
            "49ce303c62dd45c3908a63e7e2c8bb22",
            "0a4c110f527443faa5a1bce329fd601a",
            "ad4d574afe274be0b06055162657dc5b",
            "6012788a484942209c58b53745891ef0",
            "3b6e52466be94895b9a3e35c4bfd9f92",
            "779c6181c0d14a24aca1e6521bba2a75",
            "472202471d7649ef9b3a806a4984c577",
            "9fea6d09a6664c1a97df25e9b20fef5e",
            "c0766a13306140a9b4b3f769ba7062d8",
            "0e6e54fa317c4c419c5417d12bd73dad"
          ]
        },
        "id": "s0iwIXF-GQP0",
        "outputId": "0802af83-25e7-48a2-a4a7-3e4f7a105d0d"
      },
      "execution_count": 10,
      "outputs": [
        {
          "output_type": "display_data",
          "data": {
            "text/plain": [
              "  0%|          | 0/100 [00:00<?, ?it/s]"
            ],
            "application/vnd.jupyter.widget-view+json": {
              "version_major": 2,
              "version_minor": 0,
              "model_id": "e4d0c4b615bc4fdf85b3c3f4d771f42b"
            }
          },
          "metadata": {}
        }
      ]
    },
    {
      "cell_type": "code",
      "source": [
        "argsort = np.argsort(x_test, axis=0)\n",
        "x_sorted = x_test[argsort].reshape(-1)\n",
        "y_pred_sorted = y_pred[argsort].reshape(-1)\n",
        "y_true_sorted = y_test[argsort].reshape(-1)\n",
        "std_sorted = std[argsort].reshape(-1)"
      ],
      "metadata": {
        "id": "nmuPikIcGzhw"
      },
      "execution_count": 11,
      "outputs": []
    },
    {
      "cell_type": "code",
      "source": [
        "plt.fill_between(x_sorted, y_pred_sorted-3*std_sorted, y_pred_sorted+3*std_sorted, alpha=0.2, color=\"green\")\n",
        "plt.fill_between(x_sorted, y_pred_sorted-2*std_sorted, y_pred_sorted+2*std_sorted, alpha=0.4, color=\"green\")\n",
        "plt.fill_between(x_sorted, y_pred_sorted-std_sorted, y_pred_sorted+std_sorted, alpha=0.6, color=\"green\")\n",
        "plt.plot(x_sorted, y_true_sorted, label=\"true\", color=\"black\")\n",
        "plt.plot(x_sorted, y_pred_sorted, label=\"pred\", color=\"red\")\n",
        "plt.legend()\n",
        "plt.show()"
      ],
      "metadata": {
        "colab": {
          "base_uri": "https://localhost:8080/",
          "height": 265
        },
        "id": "G0L9HHScG-lR",
        "outputId": "ee42d6bd-2ef7-478e-c666-910befe1bb45"
      },
      "execution_count": 12,
      "outputs": [
        {
          "output_type": "display_data",
          "data": {
            "text/plain": [
              "<Figure size 432x288 with 1 Axes>"
            ],
            "image/png": "[encoded data removed]"
          },
          "metadata": {
            "needs_background": "light"
          }
        }
      ]
    },
    {
      "cell_type": "markdown",
      "source": [
        "get the dropout values:"
      ],
      "metadata": {
        "id": "2MDs_ZA5-Ujr"
      }
    },
    {
      "cell_type": "code",
      "source": [
        "ps = np.array([K.eval(layer.p_logit) for layer in model.layers if hasattr(layer, 'p_logit')])\n",
        "droput_val = tf.nn.sigmoid(ps).numpy()\n",
        "print(droput_val)"
      ],
      "metadata": {
        "colab": {
          "base_uri": "https://localhost:8080/"
        },
        "id": "j8IvIgHu8jgm",
        "outputId": "b54f7aad-d7bb-41f4-c58d-1bf20acd16d1"
      },
      "execution_count": 13,
      "outputs": [
        {
          "output_type": "stream",
          "name": "stdout",
          "text": [
            "[[0.06972548]\n",
            " [0.06403305]\n",
            " [0.05817999]\n",
            " [0.08279803]]\n"
          ]
        }
      ]
    }
  ],
  "metadata": {
    "colab": {
      "collapsed_sections": [],
      "name": "regression_concrete_dropout",
      "provenance": [],
      "toc_visible": true
    },
    "kernelspec": {
      "display_name": "Python 3",
      "language": "python",
      "name": "python3"
    },
    "language_info": {
      "codemirror_mode": {
        "name": "ipython",
        "version": 3
      },
      "file_extension": ".py",
      "mimetype": "text/x-python",
      "name": "python",
      "nbconvert_exporter": "python",
      "pygments_lexer": "ipython3",
      "version": "3.7.0"
    },
    "accelerator": "GPU",
    "gpuClass": "standard",
    "widgets": {
      "application/vnd.jupyter.widget-state+json": {
        "e4d0c4b615bc4fdf85b3c3f4d771f42b": {
          "model_module": "@jupyter-widgets/controls",
          "model_name": "HBoxModel",
          "model_module_version": "1.5.0",
          "state": {
            "_dom_classes": [],
            "_model_module": "@jupyter-widgets/controls",
            "_model_module_version": "1.5.0",
            "_model_name": "HBoxModel",
            "_view_count": null,
            "_view_module": "@jupyter-widgets/controls",
            "_view_module_version": "1.5.0",
            "_view_name": "HBoxView",
            "box_style": "",
            "children": [
              "IPY_MODEL_49ce303c62dd45c3908a63e7e2c8bb22",
              "IPY_MODEL_0a4c110f527443faa5a1bce329fd601a",
              "IPY_MODEL_ad4d574afe274be0b06055162657dc5b"
            ],
            "layout": "IPY_MODEL_6012788a484942209c58b53745891ef0"
          }
        },
        "49ce303c62dd45c3908a63e7e2c8bb22": {
          "model_module": "@jupyter-widgets/controls",
          "model_name": "HTMLModel",
          "model_module_version": "1.5.0",
          "state": {
            "_dom_classes": [],
            "_model_module": "@jupyter-widgets/controls",
            "_model_module_version": "1.5.0",
            "_model_name": "HTMLModel",
            "_view_count": null,
            "_view_module": "@jupyter-widgets/controls",
            "_view_module_version": "1.5.0",
            "_view_name": "HTMLView",
            "description": "",
            "description_tooltip": null,
            "layout": "IPY_MODEL_3b6e52466be94895b9a3e35c4bfd9f92",
            "placeholder": "​",
            "style": "IPY_MODEL_779c6181c0d14a24aca1e6521bba2a75",
            "value": "100%"
          }
        },
        "0a4c110f527443faa5a1bce329fd601a": {
          "model_module": "@jupyter-widgets/controls",
          "model_name": "FloatProgressModel",
          "model_module_version": "1.5.0",
          "state": {
            "_dom_classes": [],
            "_model_module": "@jupyter-widgets/controls",
            "_model_module_version": "1.5.0",
            "_model_name": "FloatProgressModel",
            "_view_count": null,
            "_view_module": "@jupyter-widgets/controls",
            "_view_module_version": "1.5.0",
            "_view_name": "ProgressView",
            "bar_style": "success",
            "description": "",
            "description_tooltip": null,
            "layout": "IPY_MODEL_472202471d7649ef9b3a806a4984c577",
            "max": 100,
            "min": 0,
            "orientation": "horizontal",
            "style": "IPY_MODEL_9fea6d09a6664c1a97df25e9b20fef5e",
            "value": 100
          }
        },
        "ad4d574afe274be0b06055162657dc5b": {
          "model_module": "@jupyter-widgets/controls",
          "model_name": "HTMLModel",
          "model_module_version": "1.5.0",
          "state": {
            "_dom_classes": [],
            "_model_module": "@jupyter-widgets/controls",
            "_model_module_version": "1.5.0",
            "_model_name": "HTMLModel",
            "_view_count": null,
            "_view_module": "@jupyter-widgets/controls",
            "_view_module_version": "1.5.0",
            "_view_name": "HTMLView",
            "description": "",
            "description_tooltip": null,
            "layout": "IPY_MODEL_c0766a13306140a9b4b3f769ba7062d8",
            "placeholder": "​",
            "style": "IPY_MODEL_0e6e54fa317c4c419c5417d12bd73dad",
            "value": " 100/100 [00:17&lt;00:00,  5.03it/s]"
          }
        },
        "6012788a484942209c58b53745891ef0": {
          "model_module": "@jupyter-widgets/base",
          "model_name": "LayoutModel",
          "model_module_version": "1.2.0",
          "state": {
            "_model_module": "@jupyter-widgets/base",
            "_model_module_version": "1.2.0",
            "_model_name": "LayoutModel",
            "_view_count": null,
            "_view_module": "@jupyter-widgets/base",
            "_view_module_version": "1.2.0",
            "_view_name": "LayoutView",
            "align_content": null,
            "align_items": null,
            "align_self": null,
            "border": null,
            "bottom": null,
            "display": null,
            "flex": null,
            "flex_flow": null,
            "grid_area": null,
            "grid_auto_columns": null,
            "grid_auto_flow": null,
            "grid_auto_rows": null,
            "grid_column": null,
            "grid_gap": null,
            "grid_row": null,
            "grid_template_areas": null,
            "grid_template_columns": null,
            "grid_template_rows": null,
            "height": null,
            "justify_content": null,
            "justify_items": null,
            "left": null,
            "margin": null,
            "max_height": null,
            "max_width": null,
            "min_height": null,
            "min_width": null,
            "object_fit": null,
            "object_position": null,
            "order": null,
            "overflow": null,
            "overflow_x": null,
            "overflow_y": null,
            "padding": null,
            "right": null,
            "top": null,
            "visibility": null,
            "width": null
          }
        },
        "3b6e52466be94895b9a3e35c4bfd9f92": {
          "model_module": "@jupyter-widgets/base",
          "model_name": "LayoutModel",
          "model_module_version": "1.2.0",
          "state": {
            "_model_module": "@jupyter-widgets/base",
            "_model_module_version": "1.2.0",
            "_model_name": "LayoutModel",
            "_view_count": null,
            "_view_module": "@jupyter-widgets/base",
            "_view_module_version": "1.2.0",
            "_view_name": "LayoutView",
            "align_content": null,
            "align_items": null,
            "align_self": null,
            "border": null,
            "bottom": null,
            "display": null,
            "flex": null,
            "flex_flow": null,
            "grid_area": null,
            "grid_auto_columns": null,
            "grid_auto_flow": null,
            "grid_auto_rows": null,
            "grid_column": null,
            "grid_gap": null,
            "grid_row": null,
            "grid_template_areas": null,
            "grid_template_columns": null,
            "grid_template_rows": null,
            "height": null,
            "justify_content": null,
            "justify_items": null,
            "left": null,
            "margin": null,
            "max_height": null,
            "max_width": null,
            "min_height": null,
            "min_width": null,
            "object_fit": null,
            "object_position": null,
            "order": null,
            "overflow": null,
            "overflow_x": null,
            "overflow_y": null,
            "padding": null,
            "right": null,
            "top": null,
            "visibility": null,
            "width": null
          }
        },
        "779c6181c0d14a24aca1e6521bba2a75": {
          "model_module": "@jupyter-widgets/controls",
          "model_name": "DescriptionStyleModel",
          "model_module_version": "1.5.0",
          "state": {
            "_model_module": "@jupyter-widgets/controls",
            "_model_module_version": "1.5.0",
            "_model_name": "DescriptionStyleModel",
            "_view_count": null,
            "_view_module": "@jupyter-widgets/base",
            "_view_module_version": "1.2.0",
            "_view_name": "StyleView",
            "description_width": ""
          }
        },
        "472202471d7649ef9b3a806a4984c577": {
          "model_module": "@jupyter-widgets/base",
          "model_name": "LayoutModel",
          "model_module_version": "1.2.0",
          "state": {
            "_model_module": "@jupyter-widgets/base",
            "_model_module_version": "1.2.0",
            "_model_name": "LayoutModel",
            "_view_count": null,
            "_view_module": "@jupyter-widgets/base",
            "_view_module_version": "1.2.0",
            "_view_name": "LayoutView",
            "align_content": null,
            "align_items": null,
            "align_self": null,
            "border": null,
            "bottom": null,
            "display": null,
            "flex": null,
            "flex_flow": null,
            "grid_area": null,
            "grid_auto_columns": null,
            "grid_auto_flow": null,
            "grid_auto_rows": null,
            "grid_column": null,
            "grid_gap": null,
            "grid_row": null,
            "grid_template_areas": null,
            "grid_template_columns": null,
            "grid_template_rows": null,
            "height": null,
            "justify_content": null,
            "justify_items": null,
            "left": null,
            "margin": null,
            "max_height": null,
            "max_width": null,
            "min_height": null,
            "min_width": null,
            "object_fit": null,
            "object_position": null,
            "order": null,
            "overflow": null,
            "overflow_x": null,
            "overflow_y": null,
            "padding": null,
            "right": null,
            "top": null,
            "visibility": null,
            "width": null
          }
        },
        "9fea6d09a6664c1a97df25e9b20fef5e": {
          "model_module": "@jupyter-widgets/controls",
          "model_name": "ProgressStyleModel",
          "model_module_version": "1.5.0",
          "state": {
            "_model_module": "@jupyter-widgets/controls",
            "_model_module_version": "1.5.0",
            "_model_name": "ProgressStyleModel",
            "_view_count": null,
            "_view_module": "@jupyter-widgets/base",
            "_view_module_version": "1.2.0",
            "_view_name": "StyleView",
            "bar_color": null,
            "description_width": ""
          }
        },
        "c0766a13306140a9b4b3f769ba7062d8": {
          "model_module": "@jupyter-widgets/base",
          "model_name": "LayoutModel",
          "model_module_version": "1.2.0",
          "state": {
            "_model_module": "@jupyter-widgets/base",
            "_model_module_version": "1.2.0",
            "_model_name": "LayoutModel",
            "_view_count": null,
            "_view_module": "@jupyter-widgets/base",
            "_view_module_version": "1.2.0",
            "_view_name": "LayoutView",
            "align_content": null,
            "align_items": null,
            "align_self": null,
            "border": null,
            "bottom": null,
            "display": null,
            "flex": null,
            "flex_flow": null,
            "grid_area": null,
            "grid_auto_columns": null,
            "grid_auto_flow": null,
            "grid_auto_rows": null,
            "grid_column": null,
            "grid_gap": null,
            "grid_row": null,
            "grid_template_areas": null,
            "grid_template_columns": null,
            "grid_template_rows": null,
            "height": null,
            "justify_content": null,
            "justify_items": null,
            "left": null,
            "margin": null,
            "max_height": null,
            "max_width": null,
            "min_height": null,
            "min_width": null,
            "object_fit": null,
            "object_position": null,
            "order": null,
            "overflow": null,
            "overflow_x": null,
            "overflow_y": null,
            "padding": null,
            "right": null,
            "top": null,
            "visibility": null,
            "width": null
          }
        },
        "0e6e54fa317c4c419c5417d12bd73dad": {
          "model_module": "@jupyter-widgets/controls",
          "model_name": "DescriptionStyleModel",
          "model_module_version": "1.5.0",
          "state": {
            "_model_module": "@jupyter-widgets/controls",
            "_model_module_version": "1.5.0",
            "_model_name": "DescriptionStyleModel",
            "_view_count": null,
            "_view_module": "@jupyter-widgets/base",
            "_view_module_version": "1.2.0",
            "_view_name": "StyleView",
            "description_width": ""
          }
        }
      }
    }
  },
  "nbformat": 4,
  "nbformat_minor": 0
}